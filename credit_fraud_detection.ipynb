{
 "cells": [
  {
   "cell_type": "code",
   "execution_count": 1,
   "metadata": {},
   "outputs": [],
   "source": [
    "import numpy as np\n",
    "import pandas as pd\n",
    "import matplotlib.pyplot as plt\n",
    "import seaborn as sns\n",
    "from scipy import stats\n",
    "from sklearn.preprocessing import LabelEncoder\n",
    "from sklearn.linear_model import LogisticRegression"
   ]
  },
  {
   "cell_type": "code",
   "execution_count": 2,
   "metadata": {},
   "outputs": [],
   "source": [
    "# loading data train and test data\n",
    "# Find data at https://www.kaggle.com/c/ieee-fraud-detection/data"
   ]
  },
  {
   "cell_type": "code",
   "execution_count": null,
   "metadata": {},
   "outputs": [],
   "source": [
    "train_transaction = pd.read_csv(\"train_transaction.csv\")\n",
    "train_identity = pd.read_csv(\"train_identity.csv\")\n",
    "train = pd.merge(train_transaction,train_identity,on=['TransactionID'],how='left')\n",
    "test_transaction = pd.read_csv(\"test_transaction.csv\")\n",
    "test_identity = pd.read_csv(\"test_identity.csv\")\n",
    "test = pd.merge(test_transaction,test_identity,on=['TransactionID'],how='left')\n",
    "print(train.head())"
   ]
  },
  {
   "cell_type": "code",
   "execution_count": null,
   "metadata": {},
   "outputs": [],
   "source": [
    "# Handling Missing Value Both in Train & Test Dataset\n",
    "train = train.dropna(axis=1)\n",
    "print(train.columns)\n",
    "features_col = list(train.columns)\n",
    "features_col.remove('isFraud')\n",
    "test = test[features_col]\n",
    "print(train.isnull().sum())\n"
   ]
  },
  {
   "cell_type": "code",
   "execution_count": null,
   "metadata": {},
   "outputs": [],
   "source": [
    "# Exploratory  Analysis Started and Data PreProcessing\n",
    "#separate variables into new numeric and categorical Features\n",
    "numeric_data = train.select_dtypes(include=[np.number])\n",
    "cat_data = train.select_dtypes(exclude=[np.number])\n",
    "del numeric_data['TransactionID']"
   ]
  },
  {
   "cell_type": "code",
   "execution_count": null,
   "metadata": {},
   "outputs": [],
   "source": [
    "# correlation plot using SeaBorn\n",
    "corr = numeric_data.corr()\n",
    "plt.subplot()\n",
    "sns.heatmap(corr)\n",
    "#plt.show()\n",
    "plt.close()\n",
    "\n",
    "print (corr['isFraud'].sort_values(ascending=False)[:10], '\\n') #top 15 values\n",
    "print ('----------------------')\n",
    "print (corr['isFraud'].sort_values(ascending=False)[-5:]) #last 5 values\n",
    "print('Data was successfully merged!\\n')\n",
    "\n",
    "del train_identity, train_transaction, test_identity, test_transaction\n",
    "\n",
    "print(f'Train dataset has {train.shape[0]} rows and {train.shape[1]} columns.')\n",
    "print(f'Test dataset has {test.shape[0]} rows and {test.shape[1]} columns.')"
   ]
  },
  {
   "cell_type": "code",
   "execution_count": null,
   "metadata": {},
   "outputs": [],
   "source": [
    "# New feature - day of week in which a transaction happened.\n",
    "train['Transaction_day_of_week'] = np.floor((train['TransactionDT'] / (3600 * 24) - 1) % 7)\n",
    "test['Transaction_day_of_week'] = np.floor((test['TransactionDT'] / (3600 * 24) - 1) % 7)\n",
    "\n",
    "# New feature - hour of the day in which a transaction happened.\n",
    "train['Transaction_hour'] = np.floor(train['TransactionDT'] / 3600) % 24\n",
    "test['Transaction_hour'] = np.floor(test['TransactionDT'] / 3600) % 24\n",
    "\n",
    "# Bar Plot\n",
    "pd.pivot_table(train, index=['Transaction_hour'], values = ['isFraud'],aggfunc= np.sum).plot(kind='Bar')  # 0 Monday\n",
    "# #plt.show()\n",
    "plt.close()"
   ]
  },
  {
   "cell_type": "code",
   "execution_count": null,
   "metadata": {},
   "outputs": [],
   "source": [
    "# Label Encoding For Categorical Data\n",
    "for col in train.columns:\n",
    "    if train[col].dtype == 'object':\n",
    "        le = LabelEncoder()\n",
    "        le.fit(list(train[col].astype(str).values) + list(test[col].astype(str).values))\n",
    "        train[col] = le.transform(list(train[col].astype(str).values))\n",
    "        test[col] = le.transform(list(test[col].astype(str).values))\n"
   ]
  },
  {
   "cell_type": "code",
   "execution_count": null,
   "metadata": {},
   "outputs": [],
   "source": [
    "# Dropping Redundant Columns\n",
    "X_train = train.drop(columns=['isFraud','TransactionDT'])\n",
    "y_train = train['isFraud']\n",
    "test = test.drop(columns=['TransactionDT'])\n",
    "X_test = test.fillna(-999)\n",
    "# Exploratory Analysis and Data pre processing Completed \n"
   ]
  },
  {
   "cell_type": "code",
   "execution_count": null,
   "metadata": {},
   "outputs": [],
   "source": [
    "# Fit the model on training data using a fit method\n",
    "logreg = LogisticRegression()\n",
    "model = logreg.fit(X_train,y_train)\n",
    "print(model)\n",
    "# The predict method just takes X_test as a parameter, which means it just takes the features to draw predictions\n",
    "predictions = logreg.predict(X_test)\n",
    "# Below are the results of predicted is Fraud\n",
    "print(predictions[0:20])\n",
    "# Results save on test Data\n",
    "X_test['Predicted'] = predictions\n",
    "X_test.to_csv(\"fraud_predicted_on_test_data.csv\",index=False)"
   ]
  }
 ],
 "metadata": {
  "kernelspec": {
   "display_name": "Python 2",
   "language": "python",
   "name": "python2"
  },
  "language_info": {
   "codemirror_mode": {
    "name": "ipython",
    "version": 2
   },
   "file_extension": ".py",
   "mimetype": "text/x-python",
   "name": "python",
   "nbconvert_exporter": "python",
   "pygments_lexer": "ipython2",
   "version": "2.7.15"
  }
 },
 "nbformat": 4,
 "nbformat_minor": 2
}
